{
 "cells": [
  {
   "cell_type": "code",
   "execution_count": 11,
   "metadata": {},
   "outputs": [],
   "source": [
    "from multigrids import TemporalMultiGrid, TemporalGrid, MultiGrid\n",
    "import numpy as np\n",
    "import os\n",
    "\n",
    "from pandas import read_csv, get_dummies, DataFrame, Series\n",
    "import matplotlib.pyplot as plt\n",
    "import numpy as np\n",
    "from sklearn.model_selection import train_test_split\n",
    "from sklearn.ensemble import RandomForestRegressor\n",
    "from sklearn.tree import export_graphviz\n",
    "import datetime\n",
    "import pickle\n",
    "import pydot\n",
    "\n",
    "def load_model (file_path):\n",
    "    \"\"\"Loads a model from a pickle file\n",
    "    \n",
    "    Parameters\n",
    "    ----------\n",
    "    file_path: path\n",
    "        path to pickle file\n",
    "        \n",
    "    Returns\n",
    "    -------\n",
    "    the sklearn model\n",
    "    \"\"\"\n",
    "    with open(file_path, 'rb') as pickle_file:\n",
    "        model = pickle.load(pickle_file)\n",
    "    return model\n",
    "\n",
    "def generate_tree_svg(tree, feature_list, out_file = 'tree.svg'):\n",
    "    \"\"\"generate a image of the tree\n",
    "    \n",
    "    Parameters\n",
    "    ----------\n",
    "    tree: tpye is ?\n",
    "    feature_list: list\n",
    "        list of feature names (str)\n",
    "    out_file: path, default 'tree.png'\n",
    "        name/location of saved file\n",
    "    \"\"\"\n",
    "    export_graphviz(tree, out_file = 'tree.dot', feature_names = feature_list, rounded = True, precision = 1)\n",
    "    (graph, ) = pydot.graph_from_dot_file('tree.dot')\n",
    "    # Write graph to a png file\n",
    "    graph.write_svg(out_file)\n",
    "    \n",
    "    \n",
    "def generate_tree_png(tree, feature_list, out_file = 'tree.png'):\n",
    "    \"\"\"generate a image of the tree\n",
    "    \n",
    "    Parameters\n",
    "    ----------\n",
    "    tree: tpye is ?\n",
    "    feature_list: list\n",
    "        list of feature names (str)\n",
    "    out_file: path, default 'tree.png'\n",
    "        name/location of saved file\n",
    "    \"\"\"\n",
    "    export_graphviz(tree, out_file = 'tree.dot', feature_names = feature_list, rounded = True, precision = 1)\n",
    "    (graph, ) = pydot.graph_from_dot_file('tree.dot')\n",
    "    # Write graph to a png file\n",
    "    graph.write_png(out_file)"
   ]
  },
  {
   "cell_type": "code",
   "execution_count": 2,
   "metadata": {},
   "outputs": [],
   "source": [
    "rf_v1 = load_model('rfm_e10_rs42_mln1000_v1/rfm_e10_rs42_mln1000.pickle')\n",
    "rf_v2 = load_model('rfm_e10_rs42_mln1000_v2/rfm_e10_rs42_mln1000_v2.pickle')\n",
    "grid_names = ['fdd', 'tdd', 'tdd+1', 'ewp', 'fwp', 'sp', 'lsp', 'sp+1', 'lat', 'long','aspect','slope', 'elev' ]"
   ]
  },
  {
   "cell_type": "code",
   "execution_count": 3,
   "metadata": {},
   "outputs": [],
   "source": [
    "rf_v1_data = MultiGrid('rfm_e10_rs42_mln1000_v1/training_data.yml')\n",
    "rf_v2_data = MultiGrid('rfm_e10_rs42_mln1000_v2/training_data.yml')"
   ]
  },
  {
   "cell_type": "code",
   "execution_count": 4,
   "metadata": {},
   "outputs": [],
   "source": [
    "# rf_v1_train = rf_v1_data.get_grids_at_keys(grid_names)\n",
    "# rf_v1_train = rf_v1_train.reshape((rf_v1_train.shape[0],rf_v1_train.shape[2]))\n",
    "\n",
    "# rf_v2_train = rf_v2_data.get_grids_at_keys(grid_names)\n",
    "# rf_v2_train = rf_v2_train.reshape((rf_v2_train.shape[0],rf_v2_train.shape[2]))"
   ]
  },
  {
   "cell_type": "code",
   "execution_count": 5,
   "metadata": {},
   "outputs": [],
   "source": [
    "# rf_v1_labels = rf_v1_data['tki'].flatten()\n",
    "# rf_v2_labels = rf_v2_data['tki'].flatten()"
   ]
  },
  {
   "cell_type": "code",
   "execution_count": 6,
   "metadata": {},
   "outputs": [],
   "source": [
    "# rf_v1.fit(rf_v1_train.T, rf_v1_labels)\n",
    "# rf_v2.fit(rf_v2_train.T, rf_v2_labels)"
   ]
  },
  {
   "cell_type": "code",
   "execution_count": 7,
   "metadata": {},
   "outputs": [],
   "source": [
    "\n",
    "generate_tree_svg(rf_v1.estimators_[0], grid_names, 'rf_v1_tree.svg')\n",
    "generate_tree_svg(rf_v2.estimators_[0], grid_names, 'rf_v2_tree.svg')"
   ]
  },
  {
   "cell_type": "code",
   "execution_count": 12,
   "metadata": {},
   "outputs": [],
   "source": [
    "generate_tree_png(rf_v1.estimators_[0], grid_names, 'rf_v1_tree.png')"
   ]
  },
  {
   "cell_type": "code",
   "execution_count": 13,
   "metadata": {},
   "outputs": [],
   "source": [
    "generate_tree_png(rf_v2.estimators_[0], grid_names, 'rf_v2_tree.png')"
   ]
  },
  {
   "cell_type": "code",
   "execution_count": null,
   "metadata": {},
   "outputs": [],
   "source": []
  }
 ],
 "metadata": {
  "kernelspec": {
   "display_name": "Python 3",
   "language": "python",
   "name": "python3"
  },
  "language_info": {
   "codemirror_mode": {
    "name": "ipython",
    "version": 3
   },
   "file_extension": ".py",
   "mimetype": "text/x-python",
   "name": "python",
   "nbconvert_exporter": "python",
   "pygments_lexer": "ipython3",
   "version": "3.7.3"
  }
 },
 "nbformat": 4,
 "nbformat_minor": 2
}
