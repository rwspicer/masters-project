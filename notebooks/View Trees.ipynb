{
 "cells": [
  {
   "cell_type": "code",
   "execution_count": 20,
   "metadata": {},
   "outputs": [],
   "source": [
    "import joblib\n",
    "\n",
    "\n",
    "import sys\n",
    "import os\n",
    "sys.path.insert(0, os.path.abspath('../forestpy/forestpy'))\n",
    "\n",
    "import random_forest_tools as tools\n",
    "from importlib import reload\n",
    "reload(tools)\n",
    "\n",
    "import pydot\n",
    "\n",
    "from sklearn import tree"
   ]
  },
  {
   "cell_type": "code",
   "execution_count": 26,
   "metadata": {},
   "outputs": [],
   "source": [
    "model = joblib.load('../sensitivity-analysis/SP/SP_example_tree.joblib')\n",
    "grid_names = ['fdd', 'tdd', 'tdd+1', 'ewp', 'fwp', 'sp', 'lsp', 'sp+1', 'lat', 'long','aspect','slope', 'elev' ]"
   ]
  },
  {
   "cell_type": "code",
   "execution_count": null,
   "metadata": {},
   "outputs": [],
   "source": []
  },
  {
   "cell_type": "code",
   "execution_count": 29,
   "metadata": {},
   "outputs": [],
   "source": [
    "\n",
    "\n",
    "ex = tree.export_graphviz(\n",
    "    model.estimators_[0], \n",
    "    out_file = 'ex_tree.dot', \n",
    "    feature_names = grid_names, \n",
    "    rounded = True, \n",
    "    proportion= True,\n",
    "    precision = 1,\n",
    "    rotate= True\n",
    ")\n",
    "(graph, ) = pydot.graph_from_dot_file('ex_tree.dot')\n",
    "# Write graph to a png file\n",
    "graph.write_png('ex_tree.png')"
   ]
  },
  {
   "cell_type": "code",
   "execution_count": null,
   "metadata": {},
   "outputs": [],
   "source": []
  }
 ],
 "metadata": {
  "kernelspec": {
   "display_name": "Python 3",
   "language": "python",
   "name": "python3"
  },
  "language_info": {
   "codemirror_mode": {
    "name": "ipython",
    "version": 3
   },
   "file_extension": ".py",
   "mimetype": "text/x-python",
   "name": "python",
   "nbconvert_exporter": "python",
   "pygments_lexer": "ipython3",
   "version": "3.7.6"
  }
 },
 "nbformat": 4,
 "nbformat_minor": 4
}
