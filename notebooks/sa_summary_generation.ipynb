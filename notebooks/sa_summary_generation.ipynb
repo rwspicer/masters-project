{
 "cells": [
  {
   "cell_type": "code",
   "execution_count": 1,
   "metadata": {},
   "outputs": [],
   "source": [
    "from results_imports import *\n",
    "from pandas import DataFrame\n",
    "import glob\n",
    "import joblib\n",
    "\n",
    "# sys.path.insert(0, os.path.abspath('../scripts'))\n"
   ]
  },
  {
   "cell_type": "code",
   "execution_count": 2,
   "metadata": {},
   "outputs": [],
   "source": [
    "acp_base = TemporalMultiGrid(feature_file)\n",
    "\n",
    "sp_base = TemporalMultiGrid(\n",
    "    '/Users/rwspicer/Desktop/data/V1/master-project/training/SP/v1/baseline/multigrid/SP-rf-training-set.yml'\n",
    ")\n",
    "# acp_base_features.config['grid_name_map']"
   ]
  },
  {
   "cell_type": "code",
   "execution_count": 18,
   "metadata": {},
   "outputs": [],
   "source": [
    "\n",
    "\n",
    "\n",
    "def get_grid_order(tmg):\n",
    "    gnm = tmg.config['grid_name_map']\n",
    "    gnl = ['' for i in gnm]\n",
    "    for g in gnm:\n",
    "        gnl[gnm[g]] = g\n",
    "    return gnl\n",
    "\n",
    "# base_features.config['grid_name_map']\n",
    "\n",
    "\n",
    "hd_path = \"/Volumes/toshi-stati/data/V1/\"\n",
    "\n",
    "acp_feature_dir = \"master-project/training/ACP/v2/\"\n",
    "sp_feature_dir = \"master-project/training/SP/v1/\"\n",
    "\n",
    "\n",
    "sa_options = [\n",
    "    'no-geolocation',\n",
    "    'with-labels',\n",
    "    'with-random',\n",
    "    'without-elevation',\n",
    "    'no-lt-10',\n",
    "    'no-max',\n",
    "    'no-max-no-geo',\n",
    "    'without-partial-precip'\n",
    "]\n",
    "\n",
    "sa_dirs = {s:os.path.join(s, 'multigrid', s + '.yml') for s in sa_options}\n",
    "sa_dirs\n",
    "\n",
    "sp_model_dir = \"/Users/rwspicer/classes/masters-project/sensitivity-analysis/SP/\"\n",
    "acp_model_dir = \"/Users/rwspicer/classes/masters-project/sensitivity-analysis/ACP/\"\n",
    "\n",
    "sp_models = glob.glob(os.path.join(sp_model_dir, '*.joblib'))\n",
    "acp_models = glob.glob(os.path.join(acp_model_dir, '*.joblib'))"
   ]
  },
  {
   "cell_type": "code",
   "execution_count": 4,
   "metadata": {},
   "outputs": [],
   "source": [
    "## baseline sp model is SP-rf-training-set_rfm_e50_md100_mfAUTO_mln50000_msl8_mss5_tdp75.joblib from\n",
    "## SA run it was trained there inadvertently\n",
    "\n",
    "# l_grid = TemporalGrid(\n",
    "#     '/Users/rwspicer/Desktop/data/V1/thermokarst/initiation-regions/SP/v1/PDM-5var/without_predisp/multigrid/SP-TKI-PDM5.yml'\n",
    "# )\n",
    "# f_grid = TemporalMultiGrid(\n",
    "#     '/Users/rwspicer/Desktop/data/V1/master-project/training/SP/v1/baseline/multigrid/SP-rf-training-set.yml'\n",
    "# )\n",
    "# hyperparameters = forest.RFParams('rfm_e50_md100_mfAUTO_mln50000_msl8_mss5_tdp.75.yml')\n",
    "\n",
    "# features, labels, index = forest.setup(f_grid,l_grid, .75)\n",
    "\n",
    "# sp_base_model = forest.create_model(\n",
    "#                 features, \n",
    "#                 labels, \n",
    "#                 hyperparameters, \n",
    "#                 2, #verbosity\n",
    "#                 12  #n_jobs\n",
    "#             )\n",
    "# joblib.dump(sp_base_model,'rfm_e50_md100_mfAUTO_mln50000_msl8_mss5_tdp.75.joblib')?"
   ]
  },
  {
   "cell_type": "code",
   "execution_count": null,
   "metadata": {},
   "outputs": [],
   "source": []
  },
  {
   "cell_type": "code",
   "execution_count": 5,
   "metadata": {},
   "outputs": [],
   "source": [
    "# model = joblib.load(sp_models[0])\n",
    "# show_feature_importances(model, get_grid_order(sp_base))\n",
    "def load_fi_results(models, data_loc):\n",
    "    \"\"\"\n",
    "    \"\"\"\n",
    "    fi_s = {}\n",
    "    for model_file in models:\n",
    "        model = joblib.load(model_file)\n",
    "        \n",
    "        name = os.path.split(model_file)[1].replace('.joblib','')\n",
    "        data_set = os.path.split(model_file)[1].split('_')[0]\n",
    "        name = name.replace('.75', '75')\n",
    "#         name = name.replace('.25', '75')\n",
    "#         name = name.replace('', '75')\n",
    "#         print (name)\n",
    "        fi = {}\n",
    "        base_name = '_'.join(name.split('_')[1:])\n",
    "        if base_name == 'rfm_e50_md100_mfAUTO_mln50000_msl8_mss5_tdp75' or \\\n",
    "            base_name == 'rfm_e50_md100_mfAUTO_mln50000_msl8_mss5_tdp.75':\n",
    "#             print('HERE')\n",
    "            fi['name'] = 'baseline'\n",
    "            \n",
    "        else:\n",
    "            base = set('rfm_e50_md100_mfAUTO_mln50000_msl8_mss5_tdp75'.split('_')) \n",
    "            base.add('tdp.75')\n",
    "            change = set(name.split('_')) \n",
    "            diff = (change ^ base) - base - {'SP-rf-training-set'}\n",
    "            diff = diff.pop()\n",
    "            \n",
    "            fi['name'] = 'baseline-' + diff\n",
    "        \n",
    "        \n",
    "        \n",
    "        \n",
    "        \n",
    "        if data_set in sa_options:\n",
    "            data_path = os.path.join(hd_path, data_loc  ,sa_dirs[data_set])\n",
    "            fi['training data'] = data_set\n",
    "            fi.update(show_feature_importances(model, get_grid_order(TemporalMultiGrid(data_path))))\n",
    "        else:\n",
    "            fi['training data'] = 'base'\n",
    "            fi.update(show_feature_importances(model, get_grid_order(sp_base)))\n",
    "\n",
    "#         if name == 'with-random_rfm_e50_md100_mfAUTO_mln50000_msl8_mss5_tdp':\n",
    "#             print (fi)\n",
    "\n",
    "        \n",
    "        \n",
    "            \n",
    "            \n",
    "        fi_s[name] = fi\n",
    "    return fi_s"
   ]
  },
  {
   "cell_type": "code",
   "execution_count": 13,
   "metadata": {},
   "outputs": [],
   "source": [
    "sp_fi_dict = load_fi_results(sp_models,sp_feature_dir)"
   ]
  },
  {
   "cell_type": "code",
   "execution_count": 14,
   "metadata": {},
   "outputs": [],
   "source": [
    "sp_fi_df = DataFrame(sp_fi_dict).T\n",
    "sp_fi_df.to_csv('../results/sp_sa_fi_results.csv')"
   ]
  },
  {
   "cell_type": "code",
   "execution_count": 15,
   "metadata": {},
   "outputs": [],
   "source": [
    "# sp_fi_df[sp_fi_df['name'] =='baseline']\n",
    "sp_fi_df[sp_fi_df['training data'] == 'base'].to_csv('../results/sp_sa_fi_results_hyperparam_only.csv')"
   ]
  },
  {
   "cell_type": "code",
   "execution_count": 20,
   "metadata": {},
   "outputs": [],
   "source": [
    "acp_fi_dict = load_fi_results(acp_models,acp_feature_dir)"
   ]
  },
  {
   "cell_type": "code",
   "execution_count": 21,
   "metadata": {},
   "outputs": [],
   "source": [
    "acp_fi_df = DataFrame(acp_fi_dict).T\n",
    "acp_fi_df.to_csv('../results/acp_sa_fi_results.csv')\n"
   ]
  },
  {
   "cell_type": "code",
   "execution_count": 22,
   "metadata": {},
   "outputs": [],
   "source": [
    "acp_fi_df[acp_fi_df['training data'] == 'base'].to_csv('../results/acp_sa_fi_results_hyperparam_only.csv')"
   ]
  },
  {
   "cell_type": "code",
   "execution_count": 23,
   "metadata": {},
   "outputs": [],
   "source": [
    "acp_fi_df[acp_fi_df['training data'] != 'base'].to_csv('../results/acp_sa_fi_results-feat.csv')"
   ]
  },
  {
   "cell_type": "code",
   "execution_count": null,
   "metadata": {},
   "outputs": [],
   "source": []
  }
 ],
 "metadata": {
  "kernelspec": {
   "display_name": "Python 3",
   "language": "python",
   "name": "python3"
  },
  "language_info": {
   "codemirror_mode": {
    "name": "ipython",
    "version": 3
   },
   "file_extension": ".py",
   "mimetype": "text/x-python",
   "name": "python",
   "nbconvert_exporter": "python",
   "pygments_lexer": "ipython3",
   "version": "3.7.6"
  }
 },
 "nbformat": 4,
 "nbformat_minor": 4
}
