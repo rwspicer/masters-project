{
 "cells": [
  {
   "cell_type": "markdown",
   "metadata": {},
   "source": [
    "# Analysis of baseline models v1\n",
    "\n"
   ]
  },
  {
   "cell_type": "code",
   "execution_count": 4,
   "metadata": {},
   "outputs": [],
   "source": [
    "import pickle\n",
    "import joblib\n",
    "from pandas import DataFrame, read_csv\n",
    "import glob\n",
    "from multigrids import TemporalMultiGrid, TemporalGrid\n",
    "import os\n",
    "from datetime import datetime, timedelta"
   ]
  },
  {
   "cell_type": "code",
   "execution_count": 5,
   "metadata": {},
   "outputs": [],
   "source": [
    "data_dir = \"/Users/rwspicer/Desktop/data/V1/\"\n",
    "feature_file = os.path.join(\n",
    "    data_dir,\n",
    "    \"master-project/training/ACP/v2/baseline/multigrid/ACP-training-base.yml\"\n",
    ")\n",
    "label_file = os.path.join(\n",
    "    data_dir,\n",
    "    \"thermokarst/initiation-regions/ACP/v4/PDM-5var/without_predisp/multigrid/ACP-TKI-PDM5.yml\"\n",
    ")\n",
    "\n",
    "to_td = lambda x: timedelta(hours = int(x.split(':')[0]),minutes = int(x.split(':')[1]), seconds = float(x.split(':')[2]))\n",
    "to_seconds = lambda x: int(x.split(':')[0]) *60 *60 + int(x.split(':')[1]) * 60 + float(x.split(':')[2])\n",
    "to_min = lambda x: to_seconds(x) / 60\n",
    "to_hour = lambda x: to_min(x) / 60\n",
    "\n",
    "\n"
   ]
  },
  {
   "cell_type": "code",
   "execution_count": 6,
   "metadata": {},
   "outputs": [],
   "source": [
    "training_data = TemporalMultiGrid(feature_file)\n",
    "om = TemporalGrid(label_file)\n",
    "\n",
    "list_of_models = [\n",
    "    'rfm_e2_md2_mfAUTO_msl8_mss5_tdp25.yml',\n",
    "    \n",
    "    'rfm_e50_md60_mfAUTO_mln50000_msl8_mss5_tdp25.yml',\n",
    "    'rfm_e50_md60_mfAUTO_mln50000_msl4_mss5_tdp25.yml',\n",
    "    'rfm_e50_md60_mfAUTO_mln50000_msl4_mss5_tdp25.yml',\n",
    "    'rfm_e10_md60_mfAUTO_mln50000_msl8_mss5_tdp50.yml',\n",
    "    'rfm_e10_md60_mfAUTO_mln50000_msl8_mss2_tdp50.yml',\n",
    "    'rfm_e10_md100_mfAUTO_mln50000_msl4_mss10_tdp50.yml',\n",
    "    'rfm_e100_md25_mfAUTO_mln50000_msl4_mss10_tdp25.yml',\n",
    "    'rfm_e100_md25_mfAUTO_mln50000_msl2_mss5_tdp25.yml',\n",
    "    'rfm_e100_md25_mfAUTO_mln50000_msl2_mss2_tdp25.yml',\n",
    "    'rfm_e50_md100_mfAUTO_mln50000_msl8_mss5_tdp75.yml',\n",
    "    'rfm_e50_md60_mfAUTO_mln50000_msl8_mss5_tdp75.yml',\n",
    "    'rfm_e50_md60_mfAUTO_mln50000_msl2_mss10_tdp75.yml',\n",
    "]\n",
    "\n",
    "model_files = glob.glob('/Volumes/toshi-stati/tk-rf-models/baseline-models/*.joblib')"
   ]
  },
  {
   "cell_type": "code",
   "execution_count": 9,
   "metadata": {},
   "outputs": [],
   "source": [
    "def show_feature_importances(model, feature_list, show=False):\n",
    "    # Get numerical feature importances\n",
    "    importances = list(model.feature_importances_)\n",
    "    # List of tuples with variable and importance\n",
    "    feature_importances = [(feature, round(importance*100, 3)) for feature, importance in zip(feature_list, importances)]\n",
    "    # Sort the feature importances by most important first\n",
    "    feature_importances = sorted(feature_importances, key = lambda x: x[1], reverse = True)\n",
    "    # Print out the feature and importances \n",
    "    if show:\n",
    "        [print('{:20} {}%'.format(*pair)) for pair in feature_importances];\n",
    "        \n",
    "    feature_importances = {f[0]:f[1] for f in feature_importances} \n",
    "    return feature_importances\n",
    "\n",
    "\n",
    "grid_names = ['fdd', 'tdd', 'tdd+1', 'ewp', 'fwp', 'sp', 'lsp', 'sp+1', 'lat', 'long','aspect','slope', 'elev' ]\n",
    "\n",
    "feature_importance_list = []\n",
    "order = []\n",
    "for fp in model_files:\n",
    "    model = joblib.load(fp)\n",
    "    order.append(os.path.split(fp)[1].replace('joblib','yml'))\n",
    "    feature_importance_list.append(show_feature_importances(model, grid_names))"
   ]
  },
  {
   "cell_type": "code",
   "execution_count": 16,
   "metadata": {},
   "outputs": [],
   "source": [
    "DataFrame(feature_importance_list, index = order)[1:].to_csv('../results/baseline-models-fi-v1.csv')"
   ]
  },
  {
   "cell_type": "code",
   "execution_count": null,
   "metadata": {},
   "outputs": [],
   "source": []
  }
 ],
 "metadata": {
  "kernelspec": {
   "display_name": "Python 3",
   "language": "python",
   "name": "python3"
  },
  "language_info": {
   "codemirror_mode": {
    "name": "ipython",
    "version": 3
   },
   "file_extension": ".py",
   "mimetype": "text/x-python",
   "name": "python",
   "nbconvert_exporter": "python",
   "pygments_lexer": "ipython3",
   "version": "3.7.6"
  }
 },
 "nbformat": 4,
 "nbformat_minor": 4
}
