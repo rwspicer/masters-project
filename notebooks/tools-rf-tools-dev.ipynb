{
 "cells": [
  {
   "cell_type": "markdown",
   "metadata": {},
   "source": [
    "# Random Forest Tools Development\n",
    "\n",
    "\n",
    "\n",
    "This has all been rolled into other libraries and such so it is mostly for archive purposes. 2020-01-29 rws"
   ]
  },
  {
   "cell_type": "code",
   "execution_count": 2,
   "metadata": {},
   "outputs": [],
   "source": [
    "from atm.images import raster\n",
    "from multigrids import temporal_grid, temporal\n",
    "import matplotlib.pyplot as plt\n",
    "import numpy as np\n",
    "import os\n",
    "import glob\n",
    "from sklearn.ensemble import RandomForestRegressor\n",
    "from sklearn.tree import export_graphviz\n",
    "import pydot\n",
    "import pickle"
   ]
  },
  {
   "cell_type": "code",
   "execution_count": 3,
   "metadata": {},
   "outputs": [],
   "source": [
    "## RF lib Need to move to annoter file\n",
    "\n",
    "def load_model (file_path):\n",
    "    \"\"\"Loads a model from a pickle file\n",
    "    \n",
    "    Parameters\n",
    "    ----------\n",
    "    file_path: path\n",
    "        path to pickle file\n",
    "        \n",
    "    Returns\n",
    "    -------\n",
    "    the sklearn model\n",
    "    \"\"\"\n",
    "    with open(file_path, 'rb') as pickle_file:\n",
    "        model = pickle.load(pickle_file)\n",
    "    return model\n",
    "\n",
    "def generate_tree_image(tree, feature_list, out_file = 'tree.svg'):\n",
    "    \"\"\"generate a image of the tree\n",
    "    \n",
    "    Parameters\n",
    "    ----------\n",
    "    tree: tpye is ?\n",
    "    feature_list: list\n",
    "        list of feature names (str)\n",
    "    out_file: path, default 'tree.png'\n",
    "        name/location of saved file\n",
    "    \"\"\"\n",
    "    export_graphviz(tree, out_file = 'tree.dot', feature_names = feature_list, rounded = True, precision = 1)\n",
    "    (graph, ) = pydot.graph_from_dot_file('tree.dot')\n",
    "    # Write graph to a png file\n",
    "    graph.write_svg(out_file)\n",
    "    \n",
    "\n",
    "\n",
    "    \n",
    "def get_data_subsample(features, labels, percent=.50):\n",
    "    \"\"\"return a random subsample of data set\n",
    "    \n",
    "    using a “discrete uniform” distribution\n",
    "    \n",
    "    Parameters\n",
    "    ----------\n",
    "    features: np.array [n_features, n_samples]\n",
    "        the features array\n",
    "    labels: np.array [n_samples]\n",
    "    percent: float [0, 1]\n",
    "        percent of data to keep\n",
    "        \n",
    "    Returns \n",
    "    -------\n",
    "    np.array[n_features, n_samples * percent]\n",
    "        randomly subsampled feature array \n",
    "    np.array[n_features, n_samples * percent]\n",
    "        randomly subsampled lable array using same \n",
    "        index as sampling feature array\n",
    "    \"\"\"\n",
    "    _max = features.shape[1]\n",
    "    keep = int(_max * percent)\n",
    "    idx = np.random.randint(_max, size=keep)\n",
    "    return features.T[idx].T, labels[idx]\n",
    "\n",
    "      # Some testing code\n",
    "#     features = np.arange(4*30).reshape([4,30])\n",
    "#     labels = (np.arange(30) ** 2).flatten()\n",
    "#     feature_ss, label_ss = get_data_subsample(features, labels , .10)\n",
    "#     print(\"Features subsample shape\", feature_ss.shape, \"\\nFeatures subsample:\")\n",
    "#     print(feature_ss)\n",
    "#     print(\"Labels subsample shape\", label_ss.shape, \"\\nLabelss subsample:\")\n",
    "#     print(label_ss)\n",
    "#     assert((feature_ss[0]**2 == label_ss).all())\n",
    "#     assert(feature_ss.shape[1] == int(.10*features.shape[1]))\n"
   ]
  },
  {
   "cell_type": "code",
   "execution_count": 4,
   "metadata": {},
   "outputs": [],
   "source": [
    "rf = load_model('tkrf_md10.pickle')\n",
    "feature_names = ['ewp', 'fwp', 'fdd', 'tdd']\n",
    "\n",
    "\n",
    "# generate_tree_image(rf.estimators_[0],feature_names)\n",
    "\n",
    "\n"
   ]
  },
  {
   "cell_type": "code",
   "execution_count": 15,
   "metadata": {},
   "outputs": [],
   "source": []
  },
  {
   "cell_type": "code",
   "execution_count": null,
   "metadata": {},
   "outputs": [],
   "source": []
  }
 ],
 "metadata": {
  "kernelspec": {
   "display_name": "Python 3",
   "language": "python",
   "name": "python3"
  },
  "language_info": {
   "codemirror_mode": {
    "name": "ipython",
    "version": 3
   },
   "file_extension": ".py",
   "mimetype": "text/x-python",
   "name": "python",
   "nbconvert_exporter": "python",
   "pygments_lexer": "ipython3",
   "version": "3.7.3"
  }
 },
 "nbformat": 4,
 "nbformat_minor": 2
}
